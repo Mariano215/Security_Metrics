{
 "cells": [
  {
   "cell_type": "markdown",
   "id": "fe91b60c-0e1d-4211-b44c-bcbe5bd8bcbe",
   "metadata": {},
   "source": [
    "# "
   ]
  },
  {
   "cell_type": "code",
   "execution_count": 1,
   "id": "aa49c084-f82d-4bcc-9583-6fa8c960d862",
   "metadata": {},
   "outputs": [
    {
     "name": "stdout",
     "output_type": "stream",
     "text": [
      "CPU Usage: 31.1%\n",
      "Memory Usage: 65.1%\n",
      "Disk Usage: 34.5%\n"
     ]
    }
   ],
   "source": [
    "import psutil    #A\n",
    "\n",
    "# Collect CPU, Memory, and Disk usage data\n",
    "cpu_usage = psutil.cpu_percent(interval=1)    #B\n",
    "memory_usage = psutil.virtual_memory().percent    #C\n",
    "disk_usage = psutil.disk_usage('/').percent    #D\n",
    "\n",
    "# Print collected metrics\n",
    "print(f\"CPU Usage: {cpu_usage}%\")    #E\n",
    "print(f\"Memory Usage: {memory_usage}%\")    #E\n",
    "print(f\"Disk Usage: {disk_usage}%\")    #E\n"
   ]
  },
  {
   "cell_type": "code",
   "execution_count": 19,
   "id": "6712d713-2983-4b62-bb73-607c48cd2041",
   "metadata": {},
   "outputs": [
    {
     "name": "stdout",
     "output_type": "stream",
     "text": [
      "Operating System: Darwin\n",
      "CPU Usage: 177%\n",
      "Disk Usage:\n",
      "2% /dev/disk3s1s1\n",
      "1% /dev/disk3s6\n",
      "2% /dev/disk3s2\n",
      "1% /dev/disk3s4\n",
      "2% /dev/disk2s2\n",
      "2% /dev/disk2s1\n",
      "1% /dev/disk2s3\n",
      "34% /dev/disk3s5\n",
      "1% /dev/disk3s3\n"
     ]
    }
   ],
   "source": [
    "%%bash\n",
    "\n",
    "# Check OS type\n",
    "os_type=$(uname)  #A\n",
    "\n",
    "# Collect CPU usage based on OS\n",
    "if [[ \"$os_type\" == \"Linux\" ]]; then\n",
    "    cpu_usage=$(top -b -n1 | awk '/Cpu\\(s\\)/ {print 100 - $8}')  #B\n",
    "elif [[ \"$os_type\" == \"Darwin\" ]]; then  # macOS\n",
    "    cpu_usage=$(ps -A -o %cpu | awk '{s+=$1} END {print s}')  #C\n",
    "else\n",
    "    cpu_usage=$(vmstat 1 2 | tail -1 | awk '{print 100 - $15}')  #D\n",
    "fi\n",
    "\n",
    "# Collect Disk Usage\n",
    "disk_usage=$(df -h | grep '^/dev/' | awk '{ print $5 \" \" $1 }')  #E\n",
    "\n",
    "# Print collected metrics\n",
    "echo \"Operating System: $os_type\"  #F\n",
    "echo \"CPU Usage: $cpu_usage%\"  #G\n",
    "echo \"Disk Usage:\"  #H\n",
    "echo \"$disk_usage\"  #I\n"
   ]
  },
  {
   "cell_type": "code",
   "execution_count": 11,
   "id": "98cdc121-75d8-4b35-9c04-b022317ebe75",
   "metadata": {},
   "outputs": [
    {
     "data": {
      "text/html": [
       "<div>\n",
       "<style scoped>\n",
       "    .dataframe tbody tr th:only-of-type {\n",
       "        vertical-align: middle;\n",
       "    }\n",
       "\n",
       "    .dataframe tbody tr th {\n",
       "        vertical-align: top;\n",
       "    }\n",
       "\n",
       "    .dataframe thead th {\n",
       "        text-align: right;\n",
       "    }\n",
       "</style>\n",
       "<table border=\"1\" class=\"dataframe\">\n",
       "  <thead>\n",
       "    <tr style=\"text-align: right;\">\n",
       "      <th></th>\n",
       "      <th>Metric</th>\n",
       "      <th>Value</th>\n",
       "    </tr>\n",
       "  </thead>\n",
       "  <tbody>\n",
       "    <tr>\n",
       "      <th>0</th>\n",
       "      <td>CPU Usage</td>\n",
       "      <td>8%</td>\n",
       "    </tr>\n",
       "    <tr>\n",
       "      <th>1</th>\n",
       "      <td>Free Memory (MB)</td>\n",
       "      <td>51.65</td>\n",
       "    </tr>\n",
       "    <tr>\n",
       "      <th>2</th>\n",
       "      <td>Total Memory (MB)</td>\n",
       "      <td>67016960</td>\n",
       "    </tr>\n",
       "    <tr>\n",
       "      <th>3</th>\n",
       "      <td>Free Disk Space (GB)</td>\n",
       "      <td>1617.3</td>\n",
       "    </tr>\n",
       "  </tbody>\n",
       "</table>\n",
       "</div>"
      ],
      "text/plain": [
       "                 Metric     Value\n",
       "0             CPU Usage        8%\n",
       "1      Free Memory (MB)     51.65\n",
       "2     Total Memory (MB)  67016960\n",
       "3  Free Disk Space (GB)    1617.3"
      ]
     },
     "metadata": {},
     "output_type": "display_data"
    }
   ],
   "source": [
    "import subprocess  # A\n",
    "import json  # B\n",
    "import pandas as pd  # C\n",
    "from IPython.display import display  # D\n",
    "\n",
    "# PowerShell commands\n",
    "cpu_cmd = \"Get-WmiObject Win32_Processor | Measure-Object -Property LoadPercentage -Average | Select-Object -ExpandProperty Average\"  # E\n",
    "memory_cmd = \"Get-WmiObject Win32_OperatingSystem | Select-Object @{Name='FreeMemory';Expression={[math]::round($_.FreePhysicalMemory/1MB,2)}},TotalVisibleMemorySize | ConvertTo-Json -Compress\"  # F\n",
    "disk_cmd = \"Get-WmiObject Win32_LogicalDisk -Filter 'DeviceID=\\\"C:\\\"' | Select-Object DeviceID, @{Name='FreeSpaceGB';Expression={[math]::round($_.FreeSpace/1GB,2)}} | ConvertTo-Json -Compress\"  # G\n",
    "\n",
    "# Run PowerShell commands and capture output\n",
    "cpu_usage = subprocess.run([\"powershell\", \"-Command\", cpu_cmd], capture_output=True, text=True).stdout.strip()  # H\n",
    "memory_output = subprocess.run([\"powershell\", \"-Command\", memory_cmd], capture_output=True, text=True).stdout.strip()  # I\n",
    "disk_output = subprocess.run([\"powershell\", \"-Command\", disk_cmd], capture_output=True, text=True).stdout.strip()  # J\n",
    "\n",
    "# Parse JSON output\n",
    "memory_usage = json.loads(memory_output) if memory_output else {\"FreeMemory\": \"N/A\", \"TotalVisibleMemorySize\": \"N/A\"}  # K\n",
    "disk_usage = json.loads(disk_output) if disk_output else {\"FreeSpaceGB\": \"N/A\"}  # L\n",
    "\n",
    "# Convert results into a DataFrame for Jupyter Notebook display\n",
    "data = {  # M\n",
    "    \"Metric\": [\"CPU Usage\", \"Free Memory (MB)\", \"Total Memory (MB)\", \"Free Disk Space (GB)\"],\n",
    "    \"Value\": [cpu_usage + \"%\", memory_usage.get(\"FreeMemory\", \"N/A\"), memory_usage.get(\"TotalVisibleMemorySize\", \"N/A\"), disk_usage.get(\"FreeSpaceGB\", \"N/A\")]\n",
    "}\n",
    "\n",
    "df = pd.DataFrame(data)  # N\n",
    "\n",
    "# Display DataFrame in Jupyter Notebook\n",
    "display(df)  # O\n",
    "\n"
   ]
  },
  {
   "cell_type": "code",
   "execution_count": null,
   "id": "1d3a6878-765a-40dc-a82f-61eaf4d41469",
   "metadata": {},
   "outputs": [],
   "source": []
  }
 ],
 "metadata": {
  "kernelspec": {
   "display_name": "Python [conda env:base] *",
   "language": "python",
   "name": "conda-base-py"
  },
  "language_info": {
   "codemirror_mode": {
    "name": "ipython",
    "version": 3
   },
   "file_extension": ".py",
   "mimetype": "text/x-python",
   "name": "python",
   "nbconvert_exporter": "python",
   "pygments_lexer": "ipython3",
   "version": "3.12.7"
  }
 },
 "nbformat": 4,
 "nbformat_minor": 5
}
